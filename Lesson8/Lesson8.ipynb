{
  "cells": [
    {
      "cell_type": "code",
      "execution_count": 1,
      "id": "1eec476a",
      "metadata": {
        "id": "1eec476a"
      },
      "outputs": [],
      "source": [
        "import torch\n",
        "import torch.nn as nn\n",
        "import torch.nn.functional as F\n",
        "import torch.optim as optim\n",
        "from torchvision import datasets, transforms\n",
        "import numpy as np\n",
        "import torchvision\n",
        "import matplotlib.pyplot as plt\n",
        "from IPython import display"
      ]
    },
    {
      "cell_type": "code",
      "execution_count": 2,
      "id": "2b59a344",
      "metadata": {
        "id": "2b59a344"
      },
      "outputs": [],
      "source": [
        "train_data_length = 1024\n",
        "train_data = torch.zeros((train_data_length, 2))\n",
        "train_data[:, 0] = torch.linspace(-20, 20, train_data_length)\n",
        "train_data[:, 1] = torch.sin(train_data[:, 0])/train_data[:, 0] - train_data[:, 0]/10\n",
        "train_labels = torch.zeros(train_data_length)\n",
        "train_set = [\n",
        "    (train_data[i], train_labels[i]) for i in range(train_data_length)]"
      ]
    },
    {
      "cell_type": "code",
      "source": [
        "plt.plot(train_data[:, 0], train_data[:, 1])\n",
        "ax = plt.gca()\n",
        "ax.spines['left'].set_position('center')\n",
        "ax.spines['bottom'].set_position('center')\n",
        "ax.spines['top'].set_visible(False)\n",
        "ax.spines['right'].set_visible(False)\n",
        "\n",
        "plt.show()"
      ],
      "metadata": {
        "colab": {
          "base_uri": "https://localhost:8080/",
          "height": 248
        },
        "id": "MNgxLOhnYkOi",
        "outputId": "b6d0ebf6-9c8e-4ce8-abd4-6a4aa590b10f"
      },
      "id": "MNgxLOhnYkOi",
      "execution_count": 3,
      "outputs": [
        {
          "output_type": "display_data",
          "data": {
            "text/plain": [
              "<Figure size 432x288 with 1 Axes>"
            ],
            "image/png": "[encoded data removed]"
          },
          "metadata": {
            "needs_background": "light"
          }
        }
      ]
    },
    {
      "cell_type": "code",
      "execution_count": 4,
      "id": "fd4cb225",
      "metadata": {
        "id": "fd4cb225"
      },
      "outputs": [],
      "source": [
        "batch_size = 128\n",
        "train_dataloader = torch.utils.data.DataLoader(\n",
        "        train_set, batch_size=batch_size, shuffle=True\n",
        "        )"
      ]
    },
    {
      "cell_type": "code",
      "source": [
        "device = 'cuda' if torch.cuda.is_available() else 'cpu'\n",
        "device"
      ],
      "metadata": {
        "colab": {
          "base_uri": "https://localhost:8080/",
          "height": 36
        },
        "id": "tdnG-UVTXMm-",
        "outputId": "d1a66af3-bfb3-48da-db29-8cc4f75e33f0"
      },
      "id": "tdnG-UVTXMm-",
      "execution_count": 5,
      "outputs": [
        {
          "output_type": "execute_result",
          "data": {
            "text/plain": [
              "'cuda'"
            ],
            "application/vnd.google.colaboratory.intrinsic+json": {
              "type": "string"
            }
          },
          "metadata": {},
          "execution_count": 5
        }
      ]
    },
    {
      "cell_type": "code",
      "execution_count": 14,
      "id": "2a3a6713",
      "metadata": {
        "id": "2a3a6713"
      },
      "outputs": [],
      "source": [
        "class Generator(nn.Module):\n",
        "    def __init__(self):\n",
        "        super().__init__()\n",
        "        \n",
        "        self.model = nn.Sequential(\n",
        "            nn.Linear(2, 128),\n",
        "            nn.BatchNorm1d(128, momentum=0.8),\n",
        "            nn.ReLU(),\n",
        "            nn.Linear(128, 256),\n",
        "            nn.BatchNorm1d(256, momentum=0.8),\n",
        "            nn.ReLU(),\n",
        "            nn.Linear(256, 2)\n",
        "        )\n",
        "\n",
        "    def forward(self, z):\n",
        "        data = self.model(z)\n",
        "\n",
        "        return data"
      ]
    },
    {
      "cell_type": "code",
      "execution_count": 15,
      "id": "23b46974",
      "metadata": {
        "id": "23b46974"
      },
      "outputs": [],
      "source": [
        "class Discriminator(nn.Module):\n",
        "    def __init__(self):\n",
        "        super().__init__()\n",
        "\n",
        "        self.model = nn.Sequential(\n",
        "            nn.Linear(2, 256),\n",
        "            nn.ReLU(),\n",
        "            nn.Dropout(0.3),\n",
        "            nn.Linear(256, 512),\n",
        "            nn.ReLU(),\n",
        "            nn.Dropout(0.3),\n",
        "            nn.Linear(512, 256),\n",
        "            nn.ReLU(),\n",
        "            nn.Dropout(0.3),\n",
        "            nn.Linear(256, 1),\n",
        "            nn.Sigmoid()\n",
        "        )\n",
        "\n",
        "  \n",
        "\n",
        "    def forward(self, x):\n",
        "\n",
        "        validity = self.model(x)\n",
        "        return validity"
      ]
    },
    {
      "cell_type": "code",
      "execution_count": 17,
      "id": "f86e74cf",
      "metadata": {
        "id": "f86e74cf"
      },
      "outputs": [],
      "source": [
        "n_epochs = 200  # количество эпох\n",
        "lr = 0.0002  # шаг обучения\n",
        "\n",
        "b1 = 0.5  # гиперпараметр для оптимайзера Adam\n",
        "b2 = 0.999  # гиперпараметр для оптимайзера Adam"
      ]
    },
    {
      "cell_type": "code",
      "execution_count": 18,
      "id": "a9f6d77e",
      "metadata": {
        "id": "a9f6d77e"
      },
      "outputs": [],
      "source": [
        "generator = Generator().to(device)\n",
        "discriminator = Discriminator().to(device)\n",
        "\n",
        "# Для каждой нейронки свой опитимизатор\n",
        "optimizer_G = torch.optim.Adam(\n",
        "    generator.parameters(),\n",
        "    lr=lr, \n",
        "    betas=(b1, b2)\n",
        ")\n",
        "optimizer_D = torch.optim.Adam(\n",
        "    discriminator.parameters(), \n",
        "    lr=lr, \n",
        "    betas=(b1, b2)\n",
        ")\n",
        "\n",
        "# Но вот функция ошибки у нас будет одна общая\n",
        "adversarial_loss = torch.nn.BCELoss()"
      ]
    },
    {
      "cell_type": "code",
      "execution_count": 19,
      "id": "063d5318",
      "metadata": {
        "id": "063d5318"
      },
      "outputs": [],
      "source": [
        "d_loss_history = []\n",
        "g_loss_history = []"
      ]
    },
    {
      "cell_type": "code",
      "execution_count": 20,
      "id": "5cd4baf2",
      "metadata": {
        "colab": {
          "base_uri": "https://localhost:8080/",
          "height": 265
        },
        "id": "5cd4baf2",
        "outputId": "e770f638-09eb-4bab-8692-0dd1558b3814"
      },
      "outputs": [
        {
          "output_type": "display_data",
          "data": {
            "text/plain": [
              "<Figure size 432x288 with 1 Axes>"
            ],
            "image/png": "[encoded data removed]"
          },
          "metadata": {
            "needs_background": "light"
          }
        }
      ],
      "source": [
        "for epoch in range(n_epochs):\n",
        "    for i, (data, labels) in enumerate(train_dataloader):\n",
        "        \n",
        "##################### Лейблы для данных: 1 - настоящие, 0 - сгенерированные ########\n",
        "        valid = torch.FloatTensor(batch_size, 1).fill_(1.0).to(device)\n",
        "        fake = torch.FloatTensor(batch_size, 1).fill_(0.0).to(device)\n",
        "\n",
        "        real_data = data.type(torch.FloatTensor).to(device)\n",
        "\n",
        "        # Генерация шума\n",
        "        z = torch.randn((batch_size, 2)).to(device)\n",
        "        \n",
        "        # Генерируем данные Генератором на основе шума\n",
        "        gen_data = generator(z)\n",
        "        \n",
        "######################  Тренировка дискриминатора    ##########################\n",
        "        \n",
        "        # Получаем предсказания дискриминатора на основе реальных данных\n",
        "        real_pred = discriminator(real_data)\n",
        "        \n",
        "        # Тут сравниваем предсказанные значения Дискриминатора(на основе настоящих данных) с настоящими\n",
        "        d_real_loss = adversarial_loss(real_pred, valid)\n",
        "        \n",
        "        # Подаем сгенерированые данные на Дискриминатор \n",
        "        fake_pred = discriminator(gen_data)\n",
        "        \n",
        "        # расчитываем ошибку предсказанного с фейковыми лейблами\n",
        "        d_fake_loss = adversarial_loss(fake_pred, fake)\n",
        "        \n",
        "        # И усредняем два лосса в один\n",
        "        d_loss = (d_real_loss + d_fake_loss) / 2\n",
        "\n",
        "        optimizer_D.zero_grad()\n",
        "        d_loss.backward()\n",
        "        optimizer_D.step()\n",
        "\n",
        "######################  Тренировка генератора    ##########################\n",
        "        \n",
        "        # генерация шума\n",
        "        z = torch.randn((batch_size, 2)).to(device)\n",
        "        \n",
        "        # 2Генерируем данные Генератором на основе шума\n",
        "        gen_data = generator(z)\n",
        "\n",
        "        # Подаем сгенерированые данные на Дискриминатор \n",
        "        fake_pred = discriminator(gen_data)\n",
        "    \n",
        "        # Тут сравниваем предсказанные значения Дискриминатора (на основе сгенерировнных данных) с настоящими\n",
        "        g_loss = adversarial_loss(fake_pred, valid)\n",
        "        \n",
        "        # Делаем шаг обучения нашего Генератора\n",
        "        optimizer_G.zero_grad()\n",
        "        g_loss.backward()\n",
        "        optimizer_G.step()\n",
        "\n",
        "        \n",
        "######## Отображение процесса обучения и вывод функций потерь ############\n",
        "\n",
        "        with torch.no_grad():\n",
        "\n",
        "            d_loss = d_loss.cpu().detach()\n",
        "            g_loss = g_loss.cpu().detach()\n",
        "\n",
        "\n",
        "            d_loss_history.append(d_loss)\n",
        "            g_loss_history.append(g_loss)\n",
        "\n",
        "plt.plot(np.array(d_loss_history), label='D loss')\n",
        "plt.plot(np.array(g_loss_history), label='G loss')\n",
        "plt.legend()\n",
        "plt.show()        "
      ]
    },
    {
      "cell_type": "code",
      "source": [
        "z = torch.randn((100, 2)).to(device)\n",
        "gen_data = generator(z)\n",
        "gen_data = gen_data.cpu().detach()\n",
        "\n",
        "fig, ax = plt.subplots(figsize=(10, 8))  \n",
        "ax.plot(gen_data[:, 0], gen_data[:, 1], \".\", color='r', label=\"Gen\")\n",
        "ax.plot(train_data[:, 0], train_data[:, 1], label=\"Real\")\n",
        "\n",
        "ax.spines['left'].set_position('center')\n",
        "ax.spines['bottom'].set_position('center')\n",
        "ax.spines['top'].set_visible(False)\n",
        "ax.spines['right'].set_visible(False)\n",
        "ax.legend()\n",
        "\n",
        "plt.show()"
      ],
      "metadata": {
        "colab": {
          "base_uri": "https://localhost:8080/",
          "height": 466
        },
        "id": "pQzmF3oIY7NA",
        "outputId": "b94c412a-cfb2-4c70-b25b-588b0b870f6e"
      },
      "id": "pQzmF3oIY7NA",
      "execution_count": 21,
      "outputs": [
        {
          "output_type": "display_data",
          "data": {
            "text/plain": [
              "<Figure size 720x576 with 1 Axes>"
            ],
            "image/png": "[encoded data removed]"
          },
          "metadata": {
            "needs_background": "light"
          }
        }
      ]
    }
  ],
  "metadata": {
    "kernelspec": {
      "display_name": "Python 3 (ipykernel)",
      "language": "python",
      "name": "python3"
    },
    "language_info": {
      "codemirror_mode": {
        "name": "ipython",
        "version": 3
      },
      "file_extension": ".py",
      "mimetype": "text/x-python",
      "name": "python",
      "nbconvert_exporter": "python",
      "pygments_lexer": "ipython3",
      "version": "3.8.12"
    },
    "colab": {
      "name": "Lesson8.ipynb",
      "provenance": []
    },
    "accelerator": "GPU"
  },
  "nbformat": 4,
  "nbformat_minor": 5
}