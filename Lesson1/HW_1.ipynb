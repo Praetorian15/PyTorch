{
 "cells": [
  {
   "cell_type": "code",
   "execution_count": 1,
   "metadata": {},
   "outputs": [],
   "source": [
    "import torch"
   ]
  },
  {
   "cell_type": "markdown",
   "metadata": {},
   "source": [
    "#### Создайте случайный FloatTensor размера 3x4x5"
   ]
  },
  {
   "cell_type": "code",
   "execution_count": 2,
   "metadata": {},
   "outputs": [
    {
     "data": {
      "text/plain": [
       "tensor([[[3.9651e-20, 8.6180e-43, 3.9651e-20, 8.6180e-43, 3.9667e-20],\n",
       "         [8.6180e-43, 3.9667e-20, 8.6180e-43, 1.4107e-21, 8.6180e-43],\n",
       "         [1.4107e-21, 8.6180e-43, 3.9659e-20, 8.6180e-43, 3.9659e-20],\n",
       "         [8.6180e-43, 1.4107e-21, 8.6180e-43, 1.4107e-21, 8.6180e-43]],\n",
       "\n",
       "        [[3.9639e-20, 8.6180e-43, 5.4273e-21, 8.6180e-43, 1.4107e-21],\n",
       "         [8.6180e-43, 1.4107e-21, 8.6180e-43, 3.9610e-20, 8.6180e-43],\n",
       "         [3.9610e-20, 8.6180e-43, 3.9597e-20, 8.6180e-43, 5.4266e-21],\n",
       "         [8.6180e-43, 3.9708e-20, 8.6180e-43, 3.9708e-20, 8.6180e-43]],\n",
       "\n",
       "        [[5.4301e-21, 8.6180e-43, 5.4301e-21, 8.6180e-43, 5.4185e-21],\n",
       "         [8.6180e-43, 5.4185e-21, 8.6180e-43, 3.9697e-20, 8.6180e-43],\n",
       "         [3.9697e-20, 8.6180e-43, 5.4285e-21, 8.6180e-43, 5.4285e-21],\n",
       "         [8.6180e-43, 5.4276e-21, 8.6180e-43, 5.4276e-21, 8.6180e-43]]])"
      ]
     },
     "execution_count": 2,
     "metadata": {},
     "output_type": "execute_result"
    }
   ],
   "source": [
    "a = torch.FloatTensor(3, 4, 5)\n",
    "a"
   ]
  },
  {
   "cell_type": "markdown",
   "metadata": {},
   "source": [
    "#### Выведите его форму (shape)"
   ]
  },
  {
   "cell_type": "code",
   "execution_count": 3,
   "metadata": {},
   "outputs": [
    {
     "data": {
      "text/plain": [
       "torch.Size([3, 4, 5])"
      ]
     },
     "execution_count": 3,
     "metadata": {},
     "output_type": "execute_result"
    }
   ],
   "source": [
    "a.shape"
   ]
  },
  {
   "cell_type": "markdown",
   "metadata": {},
   "source": [
    "#### Приведите его к форме 6 X 10"
   ]
  },
  {
   "cell_type": "code",
   "execution_count": 4,
   "metadata": {},
   "outputs": [
    {
     "data": {
      "text/plain": [
       "tensor([[3.9651e-20, 8.6180e-43, 3.9651e-20, 8.6180e-43, 3.9667e-20, 8.6180e-43,\n",
       "         3.9667e-20, 8.6180e-43, 1.4107e-21, 8.6180e-43],\n",
       "        [1.4107e-21, 8.6180e-43, 3.9659e-20, 8.6180e-43, 3.9659e-20, 8.6180e-43,\n",
       "         1.4107e-21, 8.6180e-43, 1.4107e-21, 8.6180e-43],\n",
       "        [3.9639e-20, 8.6180e-43, 5.4273e-21, 8.6180e-43, 1.4107e-21, 8.6180e-43,\n",
       "         1.4107e-21, 8.6180e-43, 3.9610e-20, 8.6180e-43],\n",
       "        [3.9610e-20, 8.6180e-43, 3.9597e-20, 8.6180e-43, 5.4266e-21, 8.6180e-43,\n",
       "         3.9708e-20, 8.6180e-43, 3.9708e-20, 8.6180e-43],\n",
       "        [5.4301e-21, 8.6180e-43, 5.4301e-21, 8.6180e-43, 5.4185e-21, 8.6180e-43,\n",
       "         5.4185e-21, 8.6180e-43, 3.9697e-20, 8.6180e-43],\n",
       "        [3.9697e-20, 8.6180e-43, 5.4285e-21, 8.6180e-43, 5.4285e-21, 8.6180e-43,\n",
       "         5.4276e-21, 8.6180e-43, 5.4276e-21, 8.6180e-43]])"
      ]
     },
     "execution_count": 4,
     "metadata": {},
     "output_type": "execute_result"
    }
   ],
   "source": [
    "a.view(6, 10)"
   ]
  },
  {
   "cell_type": "markdown",
   "metadata": {},
   "source": [
    "#### Умножьте его на вектор [1, 4, 2, 2, 1] поэлементно"
   ]
  },
  {
   "cell_type": "code",
   "execution_count": 5,
   "metadata": {},
   "outputs": [],
   "source": [
    "b = torch.FloatTensor([1, 4, 2, 2, 1])"
   ]
  },
  {
   "cell_type": "code",
   "execution_count": 6,
   "metadata": {},
   "outputs": [
    {
     "data": {
      "text/plain": [
       "tensor([[[3.9651e-20, 3.4472e-42, 7.9301e-20, 1.7236e-42, 3.9667e-20],\n",
       "         [8.6180e-43, 1.5867e-19, 1.7236e-42, 2.8215e-21, 8.6180e-43],\n",
       "         [1.4107e-21, 3.4472e-42, 7.9317e-20, 1.7236e-42, 3.9659e-20],\n",
       "         [8.6180e-43, 5.6429e-21, 1.7236e-42, 2.8215e-21, 8.6180e-43]],\n",
       "\n",
       "        [[3.9639e-20, 3.4472e-42, 1.0855e-20, 1.7236e-42, 1.4107e-21],\n",
       "         [8.6180e-43, 5.6429e-21, 1.7236e-42, 7.9220e-20, 8.6180e-43],\n",
       "         [3.9610e-20, 3.4472e-42, 7.9194e-20, 1.7236e-42, 5.4266e-21],\n",
       "         [8.6180e-43, 1.5883e-19, 1.7236e-42, 7.9417e-20, 8.6180e-43]],\n",
       "\n",
       "        [[5.4301e-21, 3.4472e-42, 1.0860e-20, 1.7236e-42, 5.4185e-21],\n",
       "         [8.6180e-43, 2.1674e-20, 1.7236e-42, 7.9393e-20, 8.6180e-43],\n",
       "         [3.9697e-20, 3.4472e-42, 1.0857e-20, 1.7236e-42, 5.4285e-21],\n",
       "         [8.6180e-43, 2.1710e-20, 1.7236e-42, 1.0855e-20, 8.6180e-43]]])"
      ]
     },
     "execution_count": 6,
     "metadata": {},
     "output_type": "execute_result"
    }
   ],
   "source": [
    "a * b"
   ]
  },
  {
   "cell_type": "code",
   "execution_count": 7,
   "metadata": {},
   "outputs": [
    {
     "data": {
      "text/plain": [
       "tensor([[[3.9651e-20, 3.4472e-42, 7.9301e-20, 1.7236e-42, 3.9667e-20],\n",
       "         [8.6180e-43, 1.5867e-19, 1.7236e-42, 2.8215e-21, 8.6180e-43],\n",
       "         [1.4107e-21, 3.4472e-42, 7.9317e-20, 1.7236e-42, 3.9659e-20],\n",
       "         [8.6180e-43, 5.6429e-21, 1.7236e-42, 2.8215e-21, 8.6180e-43]],\n",
       "\n",
       "        [[3.9639e-20, 3.4472e-42, 1.0855e-20, 1.7236e-42, 1.4107e-21],\n",
       "         [8.6180e-43, 5.6429e-21, 1.7236e-42, 7.9220e-20, 8.6180e-43],\n",
       "         [3.9610e-20, 3.4472e-42, 7.9194e-20, 1.7236e-42, 5.4266e-21],\n",
       "         [8.6180e-43, 1.5883e-19, 1.7236e-42, 7.9417e-20, 8.6180e-43]],\n",
       "\n",
       "        [[5.4301e-21, 3.4472e-42, 1.0860e-20, 1.7236e-42, 5.4185e-21],\n",
       "         [8.6180e-43, 2.1674e-20, 1.7236e-42, 7.9393e-20, 8.6180e-43],\n",
       "         [3.9697e-20, 3.4472e-42, 1.0857e-20, 1.7236e-42, 5.4285e-21],\n",
       "         [8.6180e-43, 2.1710e-20, 1.7236e-42, 1.0855e-20, 8.6180e-43]]])"
      ]
     },
     "execution_count": 7,
     "metadata": {},
     "output_type": "execute_result"
    }
   ],
   "source": [
    "a.mul(b)"
   ]
  },
  {
   "cell_type": "markdown",
   "metadata": {},
   "source": [
    "#### Умножьте тензор матрично на себя, чтобы результат был размерности 6x6"
   ]
  },
  {
   "cell_type": "code",
   "execution_count": 8,
   "metadata": {},
   "outputs": [
    {
     "data": {
      "text/plain": [
       "tensor([[6.2933e-39, 3.2595e-39, 1.9547e-39, 4.9870e-39, 9.1649e-40, 2.2275e-39],\n",
       "        [3.2595e-39, 3.1516e-39, 3.8498e-40, 1.9535e-39, 5.0155e-40, 5.0189e-40],\n",
       "        [1.9547e-39, 3.8498e-40, 3.1736e-39, 3.4215e-39, 1.8324e-39, 1.8333e-39],\n",
       "        [4.9870e-39, 1.9535e-39, 3.4215e-39, 6.3199e-39, 2.2510e-39, 2.2478e-39],\n",
       "        [9.1649e-40, 5.0155e-40, 1.8324e-39, 2.2510e-39, 1.6935e-39, 5.1932e-40],\n",
       "        [2.2275e-39, 5.0189e-40, 1.8333e-39, 2.2478e-39, 5.1932e-40, 1.6937e-39]])"
      ]
     },
     "execution_count": 8,
     "metadata": {},
     "output_type": "execute_result"
    }
   ],
   "source": [
    "a.view(6, 10).mm(a.view(6, 10).T)"
   ]
  },
  {
   "cell_type": "code",
   "execution_count": 9,
   "metadata": {},
   "outputs": [
    {
     "data": {
      "text/plain": [
       "tensor([[6.2933e-39, 3.2595e-39, 1.9547e-39, 4.9870e-39, 9.1649e-40, 2.2275e-39],\n",
       "        [3.2595e-39, 3.1516e-39, 3.8498e-40, 1.9535e-39, 5.0155e-40, 5.0189e-40],\n",
       "        [1.9547e-39, 3.8498e-40, 3.1736e-39, 3.4215e-39, 1.8324e-39, 1.8333e-39],\n",
       "        [4.9870e-39, 1.9535e-39, 3.4215e-39, 6.3199e-39, 2.2510e-39, 2.2478e-39],\n",
       "        [9.1649e-40, 5.0155e-40, 1.8324e-39, 2.2510e-39, 1.6935e-39, 5.1932e-40],\n",
       "        [2.2275e-39, 5.0189e-40, 1.8333e-39, 2.2478e-39, 5.1932e-40, 1.6937e-39]])"
      ]
     },
     "execution_count": 9,
     "metadata": {},
     "output_type": "execute_result"
    }
   ],
   "source": [
    "a.view(6, 10) @ a.view(6, 10).T"
   ]
  },
  {
   "cell_type": "markdown",
   "metadata": {},
   "source": [
    "#### Посчитайте производную функции y = x**3 + z - 75t в точке (1, 0.5, 2)"
   ]
  },
  {
   "cell_type": "code",
   "execution_count": 10,
   "metadata": {},
   "outputs": [],
   "source": [
    "from torch.autograd import Variable\n",
    "x = Variable(torch.FloatTensor([1]), requires_grad = True)\n",
    "z = Variable(torch.FloatTensor([0.5]), requires_grad = True)\n",
    "t = Variable(torch.FloatTensor([2]), requires_grad = True)"
   ]
  },
  {
   "cell_type": "code",
   "execution_count": 11,
   "metadata": {},
   "outputs": [],
   "source": [
    "y = x**3 + z - 75*t"
   ]
  },
  {
   "cell_type": "code",
   "execution_count": 12,
   "metadata": {},
   "outputs": [],
   "source": [
    "y.backward()"
   ]
  },
  {
   "cell_type": "code",
   "execution_count": 13,
   "metadata": {},
   "outputs": [
    {
     "name": "stdout",
     "output_type": "stream",
     "text": [
      "tensor([3.])\n",
      "tensor([1.])\n",
      "tensor([-75.])\n"
     ]
    }
   ],
   "source": [
    "print(x.grad)\n",
    "print(z.grad)\n",
    "print(t.grad)"
   ]
  },
  {
   "cell_type": "markdown",
   "metadata": {},
   "source": [
    "#### Создайте единичный тензор размера 5x6"
   ]
  },
  {
   "cell_type": "code",
   "execution_count": 14,
   "metadata": {},
   "outputs": [
    {
     "data": {
      "text/plain": [
       "tensor([[1., 1., 1., 1., 1., 1.],\n",
       "        [1., 1., 1., 1., 1., 1.],\n",
       "        [1., 1., 1., 1., 1., 1.],\n",
       "        [1., 1., 1., 1., 1., 1.],\n",
       "        [1., 1., 1., 1., 1., 1.]])"
      ]
     },
     "execution_count": 14,
     "metadata": {},
     "output_type": "execute_result"
    }
   ],
   "source": [
    "c = torch.ones(5, 6)\n",
    "c"
   ]
  },
  {
   "cell_type": "markdown",
   "metadata": {},
   "source": [
    "#### Переведите его в формат numpy"
   ]
  },
  {
   "cell_type": "code",
   "execution_count": 15,
   "metadata": {},
   "outputs": [
    {
     "data": {
      "text/plain": [
       "numpy.ndarray"
      ]
     },
     "execution_count": 15,
     "metadata": {},
     "output_type": "execute_result"
    }
   ],
   "source": [
    "c = c.numpy()\n",
    "type(c)"
   ]
  }
 ],
 "metadata": {
  "kernelspec": {
   "display_name": "Python 3 (ipykernel)",
   "language": "python",
   "name": "python3"
  },
  "language_info": {
   "codemirror_mode": {
    "name": "ipython",
    "version": 3
   },
   "file_extension": ".py",
   "mimetype": "text/x-python",
   "name": "python",
   "nbconvert_exporter": "python",
   "pygments_lexer": "ipython3",
   "version": "3.8.12"
  }
 },
 "nbformat": 4,
 "nbformat_minor": 2
}
